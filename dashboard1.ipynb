{
 "cells": [
  {
   "cell_type": "code",
   "execution_count": 22,
   "metadata": {
    "collapsed": true
   },
   "outputs": [
    {
     "data": {
      "text/plain": "<IPython.core.display.HTML object>",
      "text/html": "<table border=\"1\" class=\"dataframe\">\n  <thead>\n    <tr style=\"text-align: right;\">\n      <th>County, State, Country</th>\n      <th>Confirmed Cases</th>\n      <th>Deaths</th>\n      <th>Updated</th>\n    </tr>\n  </thead>\n  <tbody>\n    <tr>\n      <td>Abbeville, South Carolina, US</td>\n      <td>7</td>\n      <td>0</td>\n      <td>04/10/2020 10:54 PM</td>\n    </tr>\n    <tr>\n      <td>Aiken, South Carolina, US</td>\n      <td>48</td>\n      <td>1</td>\n      <td>04/10/2020 10:54 PM</td>\n    </tr>\n    <tr>\n      <td>Allendale, South Carolina, US</td>\n      <td>4</td>\n      <td>0</td>\n      <td>04/10/2020 10:54 PM</td>\n    </tr>\n    <tr>\n      <td>Anderson, South Carolina, US</td>\n      <td>100</td>\n      <td>5</td>\n      <td>04/10/2020 10:54 PM</td>\n    </tr>\n    <tr>\n      <td>Bamberg, South Carolina, US</td>\n      <td>6</td>\n      <td>0</td>\n      <td>04/10/2020 10:54 PM</td>\n    </tr>\n    <tr>\n      <td>Barnwell, South Carolina, US</td>\n      <td>5</td>\n      <td>0</td>\n      <td>04/10/2020 10:54 PM</td>\n    </tr>\n    <tr>\n      <td>Beaufort, South Carolina, US</td>\n      <td>186</td>\n      <td>5</td>\n      <td>04/10/2020 10:54 PM</td>\n    </tr>\n    <tr>\n      <td>Berkeley, South Carolina, US</td>\n      <td>67</td>\n      <td>1</td>\n      <td>04/10/2020 10:54 PM</td>\n    </tr>\n    <tr>\n      <td>Calhoun, South Carolina, US</td>\n      <td>6</td>\n      <td>1</td>\n      <td>04/10/2020 10:54 PM</td>\n    </tr>\n    <tr>\n      <td>Charleston, South Carolina, US</td>\n      <td>328</td>\n      <td>1</td>\n      <td>04/10/2020 10:54 PM</td>\n    </tr>\n    <tr>\n      <td>Cherokee, South Carolina, US</td>\n      <td>8</td>\n      <td>0</td>\n      <td>04/10/2020 10:54 PM</td>\n    </tr>\n    <tr>\n      <td>Chester, South Carolina, US</td>\n      <td>17</td>\n      <td>0</td>\n      <td>04/10/2020 10:54 PM</td>\n    </tr>\n    <tr>\n      <td>Chesterfield, South Carolina, US</td>\n      <td>22</td>\n      <td>0</td>\n      <td>04/10/2020 10:54 PM</td>\n    </tr>\n    <tr>\n      <td>Clarendon, South Carolina, US</td>\n      <td>80</td>\n      <td>3</td>\n      <td>04/10/2020 10:54 PM</td>\n    </tr>\n    <tr>\n      <td>Colleton, South Carolina, US</td>\n      <td>15</td>\n      <td>0</td>\n      <td>04/10/2020 10:54 PM</td>\n    </tr>\n    <tr>\n      <td>Darlington, South Carolina, US</td>\n      <td>33</td>\n      <td>0</td>\n      <td>04/10/2020 10:54 PM</td>\n    </tr>\n    <tr>\n      <td>Dillon, South Carolina, US</td>\n      <td>5</td>\n      <td>0</td>\n      <td>04/10/2020 10:54 PM</td>\n    </tr>\n    <tr>\n      <td>Dorchester, South Carolina, US</td>\n      <td>65</td>\n      <td>0</td>\n      <td>04/10/2020 10:54 PM</td>\n    </tr>\n    <tr>\n      <td>Edgefield, South Carolina, US</td>\n      <td>10</td>\n      <td>0</td>\n      <td>04/10/2020 10:54 PM</td>\n    </tr>\n    <tr>\n      <td>Fairfield, South Carolina, US</td>\n      <td>18</td>\n      <td>0</td>\n      <td>04/10/2020 10:54 PM</td>\n    </tr>\n    <tr>\n      <td>Florence, South Carolina, US</td>\n      <td>64</td>\n      <td>6</td>\n      <td>04/10/2020 10:54 PM</td>\n    </tr>\n    <tr>\n      <td>Georgetown, South Carolina, US</td>\n      <td>28</td>\n      <td>1</td>\n      <td>04/10/2020 10:54 PM</td>\n    </tr>\n    <tr>\n      <td>Greenville, South Carolina, US</td>\n      <td>308</td>\n      <td>6</td>\n      <td>04/10/2020 10:54 PM</td>\n    </tr>\n    <tr>\n      <td>Greenwood, South Carolina, US</td>\n      <td>16</td>\n      <td>0</td>\n      <td>04/10/2020 10:54 PM</td>\n    </tr>\n    <tr>\n      <td>Hampton, South Carolina, US</td>\n      <td>6</td>\n      <td>0</td>\n      <td>04/10/2020 10:54 PM</td>\n    </tr>\n    <tr>\n      <td>Horry, South Carolina, US</td>\n      <td>124</td>\n      <td>7</td>\n      <td>04/10/2020 10:54 PM</td>\n    </tr>\n    <tr>\n      <td>Jasper, South Carolina, US</td>\n      <td>12</td>\n      <td>0</td>\n      <td>04/10/2020 10:54 PM</td>\n    </tr>\n    <tr>\n      <td>Kershaw, South Carolina, US</td>\n      <td>177</td>\n      <td>3</td>\n      <td>04/10/2020 10:54 PM</td>\n    </tr>\n    <tr>\n      <td>Lancaster, South Carolina, US</td>\n      <td>61</td>\n      <td>0</td>\n      <td>04/10/2020 10:54 PM</td>\n    </tr>\n    <tr>\n      <td>Laurens, South Carolina, US</td>\n      <td>11</td>\n      <td>1</td>\n      <td>04/10/2020 10:54 PM</td>\n    </tr>\n    <tr>\n      <td>Lee, South Carolina, US</td>\n      <td>27</td>\n      <td>3</td>\n      <td>04/10/2020 10:54 PM</td>\n    </tr>\n    <tr>\n      <td>Lexington, South Carolina, US</td>\n      <td>184</td>\n      <td>6</td>\n      <td>04/10/2020 10:54 PM</td>\n    </tr>\n    <tr>\n      <td>McCormick, South Carolina, US</td>\n      <td>3</td>\n      <td>1</td>\n      <td>04/10/2020 10:54 PM</td>\n    </tr>\n    <tr>\n      <td>Marion, South Carolina, US</td>\n      <td>5</td>\n      <td>1</td>\n      <td>04/10/2020 10:54 PM</td>\n    </tr>\n    <tr>\n      <td>Marlboro, South Carolina, US</td>\n      <td>11</td>\n      <td>0</td>\n      <td>04/10/2020 10:54 PM</td>\n    </tr>\n    <tr>\n      <td>Newberry, South Carolina, US</td>\n      <td>13</td>\n      <td>1</td>\n      <td>04/10/2020 10:54 PM</td>\n    </tr>\n    <tr>\n      <td>Oconee, South Carolina, US</td>\n      <td>12</td>\n      <td>0</td>\n      <td>04/10/2020 10:54 PM</td>\n    </tr>\n    <tr>\n      <td>Orangeburg, South Carolina, US</td>\n      <td>37</td>\n      <td>0</td>\n      <td>04/10/2020 10:54 PM</td>\n    </tr>\n    <tr>\n      <td>Pickens, South Carolina, US</td>\n      <td>27</td>\n      <td>0</td>\n      <td>04/10/2020 10:54 PM</td>\n    </tr>\n    <tr>\n      <td>Richland, South Carolina, US</td>\n      <td>452</td>\n      <td>10</td>\n      <td>04/10/2020 10:54 PM</td>\n    </tr>\n    <tr>\n      <td>Saluda, South Carolina, US</td>\n      <td>7</td>\n      <td>0</td>\n      <td>04/10/2020 10:54 PM</td>\n    </tr>\n    <tr>\n      <td>Spartanburg, South Carolina, US</td>\n      <td>150</td>\n      <td>4</td>\n      <td>04/10/2020 10:54 PM</td>\n    </tr>\n    <tr>\n      <td>Sumter, South Carolina, US</td>\n      <td>142</td>\n      <td>3</td>\n      <td>04/10/2020 10:54 PM</td>\n    </tr>\n    <tr>\n      <td>Union, South Carolina, US</td>\n      <td>20</td>\n      <td>0</td>\n      <td>04/10/2020 10:54 PM</td>\n    </tr>\n    <tr>\n      <td>Williamsburg, South Carolina, US</td>\n      <td>15</td>\n      <td>0</td>\n      <td>04/10/2020 10:54 PM</td>\n    </tr>\n    <tr>\n      <td>York, South Carolina, US</td>\n      <td>125</td>\n      <td>2</td>\n      <td>04/10/2020 10:54 PM</td>\n    </tr>\n  </tbody>\n</table>"
     },
     "metadata": {},
     "output_type": "display_data"
    }
   ],
   "source": [
    "import pandas as pd\n",
    "import matplotlib.pyplot as plt\n",
    "import os\n",
    "import glob\n",
    "from IPython.display import display, HTML\n",
    "\n",
    "plt.rcParams['figure.facecolor'] = 'white'\n",
    "\n",
    "daily_report_file_dir = 'csse_covid_19_data/csse_covid_19_daily_reports/*.csv'\n",
    "\n",
    "latest_daily_report = max(glob.iglob(daily_report_file_dir), key=os.path.basename)\n",
    "\n",
    "df = pd.read_csv(latest_daily_report, index_col=0)\n",
    "\n",
    "# Sort the input data so we can select SC only\n",
    "df = df.sort_index()\n",
    "\n",
    "# Select range of SC counties by FIPS number and limit the columns we want in the output\n",
    "df = df.loc[45001:45091, ['Combined_Key', 'Confirmed', 'Deaths', 'Last_Update']]\n",
    "# reformat the date so it's more user friendly to Americans\n",
    "df['Last_Update'] = pd.to_datetime(df['Last_Update']).dt.strftime('%m/%d/%Y %I:%M %p')\n",
    "# Rename the column headers\n",
    "df.columns = ['County, State, Country', 'Confirmed Cases', 'Deaths', 'Updated']\n",
    "\n",
    "display(HTML(df.to_html(index=False)))"
   ]
  }
 ],
 "metadata": {
  "kernelspec": {
   "display_name": "Python 3",
   "language": "python",
   "name": "python3"
  },
  "language_info": {
   "codemirror_mode": {
    "name": "ipython",
    "version": 2
   },
   "file_extension": ".py",
   "mimetype": "text/x-python",
   "name": "python",
   "nbconvert_exporter": "python",
   "pygments_lexer": "ipython2",
   "version": "2.7.6"
  }
 },
 "nbformat": 4,
 "nbformat_minor": 0
}