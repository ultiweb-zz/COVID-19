{
 "cells": [
  {
   "cell_type": "code",
   "execution_count": 1,
   "metadata": {
    "collapsed": true
   },
   "outputs": [],
   "source": [
    "import pandas as pd\n",
    "import matplotlib.pyplot as plt\n",
    "import os\n",
    "import glob\n",
    "from IPython.display import display, HTML\n",
    "%matplotlib inline"
   ]
  },
  {
   "cell_type": "code",
   "execution_count": 2,
   "outputs": [
    {
     "data": {
      "text/plain": "<IPython.core.display.HTML object>",
      "text/html": "<table border=\"1\" class=\"dataframe\">\n  <thead>\n    <tr style=\"text-align: right;\">\n      <th>County, State, Country</th>\n      <th>Confirmed Cases</th>\n      <th>Deaths</th>\n      <th>Updated</th>\n    </tr>\n  </thead>\n  <tbody>\n    <tr>\n      <td>Abbeville, South Carolina, US</td>\n      <td>27</td>\n      <td>0</td>\n      <td>04/27/2020 02:30 AM</td>\n    </tr>\n    <tr>\n      <td>Aiken, South Carolina, US</td>\n      <td>89</td>\n      <td>6</td>\n      <td>04/27/2020 02:30 AM</td>\n    </tr>\n    <tr>\n      <td>Allendale, South Carolina, US</td>\n      <td>8</td>\n      <td>1</td>\n      <td>04/27/2020 02:30 AM</td>\n    </tr>\n    <tr>\n      <td>Anderson, South Carolina, US</td>\n      <td>145</td>\n      <td>6</td>\n      <td>04/27/2020 02:30 AM</td>\n    </tr>\n    <tr>\n      <td>Bamberg, South Carolina, US</td>\n      <td>8</td>\n      <td>0</td>\n      <td>04/27/2020 02:30 AM</td>\n    </tr>\n    <tr>\n      <td>Barnwell, South Carolina, US</td>\n      <td>15</td>\n      <td>0</td>\n      <td>04/27/2020 02:30 AM</td>\n    </tr>\n    <tr>\n      <td>Beaufort, South Carolina, US</td>\n      <td>255</td>\n      <td>10</td>\n      <td>04/27/2020 02:30 AM</td>\n    </tr>\n    <tr>\n      <td>Berkeley, South Carolina, US</td>\n      <td>181</td>\n      <td>8</td>\n      <td>04/27/2020 02:30 AM</td>\n    </tr>\n    <tr>\n      <td>Calhoun, South Carolina, US</td>\n      <td>6</td>\n      <td>1</td>\n      <td>04/27/2020 02:30 AM</td>\n    </tr>\n    <tr>\n      <td>Charleston, South Carolina, US</td>\n      <td>436</td>\n      <td>6</td>\n      <td>04/27/2020 02:30 AM</td>\n    </tr>\n    <tr>\n      <td>Cherokee, South Carolina, US</td>\n      <td>14</td>\n      <td>0</td>\n      <td>04/27/2020 02:30 AM</td>\n    </tr>\n    <tr>\n      <td>Chester, South Carolina, US</td>\n      <td>27</td>\n      <td>0</td>\n      <td>04/27/2020 02:30 AM</td>\n    </tr>\n    <tr>\n      <td>Chesterfield, South Carolina, US</td>\n      <td>44</td>\n      <td>0</td>\n      <td>04/27/2020 02:30 AM</td>\n    </tr>\n    <tr>\n      <td>Clarendon, South Carolina, US</td>\n      <td>181</td>\n      <td>11</td>\n      <td>04/27/2020 02:30 AM</td>\n    </tr>\n    <tr>\n      <td>Colleton, South Carolina, US</td>\n      <td>26</td>\n      <td>4</td>\n      <td>04/27/2020 02:30 AM</td>\n    </tr>\n    <tr>\n      <td>Darlington, South Carolina, US</td>\n      <td>104</td>\n      <td>1</td>\n      <td>04/27/2020 02:30 AM</td>\n    </tr>\n    <tr>\n      <td>Dillon, South Carolina, US</td>\n      <td>41</td>\n      <td>0</td>\n      <td>04/27/2020 02:30 AM</td>\n    </tr>\n    <tr>\n      <td>Dorchester, South Carolina, US</td>\n      <td>90</td>\n      <td>2</td>\n      <td>04/27/2020 02:30 AM</td>\n    </tr>\n    <tr>\n      <td>Edgefield, South Carolina, US</td>\n      <td>24</td>\n      <td>1</td>\n      <td>04/27/2020 02:30 AM</td>\n    </tr>\n    <tr>\n      <td>Fairfield, South Carolina, US</td>\n      <td>33</td>\n      <td>2</td>\n      <td>04/27/2020 02:30 AM</td>\n    </tr>\n    <tr>\n      <td>Florence, South Carolina, US</td>\n      <td>265</td>\n      <td>9</td>\n      <td>04/27/2020 02:30 AM</td>\n    </tr>\n    <tr>\n      <td>Georgetown, South Carolina, US</td>\n      <td>39</td>\n      <td>2</td>\n      <td>04/27/2020 02:30 AM</td>\n    </tr>\n    <tr>\n      <td>Greenville, South Carolina, US</td>\n      <td>609</td>\n      <td>19</td>\n      <td>04/27/2020 02:30 AM</td>\n    </tr>\n    <tr>\n      <td>Greenwood, South Carolina, US</td>\n      <td>44</td>\n      <td>0</td>\n      <td>04/27/2020 02:30 AM</td>\n    </tr>\n    <tr>\n      <td>Hampton, South Carolina, US</td>\n      <td>21</td>\n      <td>0</td>\n      <td>04/27/2020 02:30 AM</td>\n    </tr>\n    <tr>\n      <td>Horry, South Carolina, US</td>\n      <td>203</td>\n      <td>12</td>\n      <td>04/27/2020 02:30 AM</td>\n    </tr>\n    <tr>\n      <td>Jasper, South Carolina, US</td>\n      <td>19</td>\n      <td>1</td>\n      <td>04/27/2020 02:30 AM</td>\n    </tr>\n    <tr>\n      <td>Kershaw, South Carolina, US</td>\n      <td>218</td>\n      <td>10</td>\n      <td>04/27/2020 02:30 AM</td>\n    </tr>\n    <tr>\n      <td>Lancaster, South Carolina, US</td>\n      <td>87</td>\n      <td>3</td>\n      <td>04/27/2020 02:30 AM</td>\n    </tr>\n    <tr>\n      <td>Laurens, South Carolina, US</td>\n      <td>29</td>\n      <td>1</td>\n      <td>04/27/2020 02:30 AM</td>\n    </tr>\n    <tr>\n      <td>Lee, South Carolina, US</td>\n      <td>51</td>\n      <td>6</td>\n      <td>04/27/2020 02:30 AM</td>\n    </tr>\n    <tr>\n      <td>Lexington, South Carolina, US</td>\n      <td>329</td>\n      <td>12</td>\n      <td>04/27/2020 02:30 AM</td>\n    </tr>\n    <tr>\n      <td>McCormick, South Carolina, US</td>\n      <td>6</td>\n      <td>1</td>\n      <td>04/27/2020 02:30 AM</td>\n    </tr>\n    <tr>\n      <td>Marion, South Carolina, US</td>\n      <td>32</td>\n      <td>1</td>\n      <td>04/27/2020 02:30 AM</td>\n    </tr>\n    <tr>\n      <td>Marlboro, South Carolina, US</td>\n      <td>40</td>\n      <td>0</td>\n      <td>04/27/2020 02:30 AM</td>\n    </tr>\n    <tr>\n      <td>Newberry, South Carolina, US</td>\n      <td>23</td>\n      <td>1</td>\n      <td>04/27/2020 02:30 AM</td>\n    </tr>\n    <tr>\n      <td>Oconee, South Carolina, US</td>\n      <td>22</td>\n      <td>0</td>\n      <td>04/27/2020 02:30 AM</td>\n    </tr>\n    <tr>\n      <td>Orangeburg, South Carolina, US</td>\n      <td>61</td>\n      <td>1</td>\n      <td>04/27/2020 02:30 AM</td>\n    </tr>\n    <tr>\n      <td>Pickens, South Carolina, US</td>\n      <td>49</td>\n      <td>0</td>\n      <td>04/27/2020 02:30 AM</td>\n    </tr>\n    <tr>\n      <td>Richland, South Carolina, US</td>\n      <td>837</td>\n      <td>19</td>\n      <td>04/27/2020 02:30 AM</td>\n    </tr>\n    <tr>\n      <td>Saluda, South Carolina, US</td>\n      <td>35</td>\n      <td>0</td>\n      <td>04/27/2020 02:30 AM</td>\n    </tr>\n    <tr>\n      <td>Spartanburg, South Carolina, US</td>\n      <td>249</td>\n      <td>8</td>\n      <td>04/27/2020 02:30 AM</td>\n    </tr>\n    <tr>\n      <td>Sumter, South Carolina, US</td>\n      <td>214</td>\n      <td>6</td>\n      <td>04/27/2020 02:30 AM</td>\n    </tr>\n    <tr>\n      <td>Union, South Carolina, US</td>\n      <td>25</td>\n      <td>0</td>\n      <td>04/27/2020 02:30 AM</td>\n    </tr>\n    <tr>\n      <td>Williamsburg, South Carolina, US</td>\n      <td>56</td>\n      <td>0</td>\n      <td>04/27/2020 02:30 AM</td>\n    </tr>\n    <tr>\n      <td>York, South Carolina, US</td>\n      <td>181</td>\n      <td>3</td>\n      <td>04/27/2020 02:30 AM</td>\n    </tr>\n  </tbody>\n</table>"
     },
     "metadata": {},
     "output_type": "display_data"
    }
   ],
   "source": [
    "plt.rcParams['figure.facecolor'] = 'white'\n",
    "\n",
    "daily_report_file_dir = 'csse_covid_19_data/csse_covid_19_daily_reports/*.csv'\n",
    "\n",
    "latest_daily_report = max(glob.iglob(daily_report_file_dir), key=os.path.basename)\n",
    "\n",
    "df = pd.read_csv(latest_daily_report, index_col=0)\n",
    "\n",
    "# Sort the input data so we can select SC only\n",
    "df = df.sort_index()\n",
    "\n",
    "# Select range of SC counties by FIPS number and limit the columns we want in the output\n",
    "df = df.loc[45001:45091, ['Combined_Key', 'Confirmed', 'Deaths', 'Last_Update']]\n",
    "# reformat the date so it's more user friendly to Americans\n",
    "df['Last_Update'] = pd.to_datetime(df['Last_Update']).dt.strftime('%m/%d/%Y %I:%M %p')\n",
    "# Rename the column headers\n",
    "df.columns = ['County, State, Country', 'Confirmed Cases', 'Deaths', 'Updated']\n",
    "\n",
    "display(HTML(df.to_html(index=False)))"
   ],
   "metadata": {
    "collapsed": false,
    "pycharm": {
     "name": "#%%\n"
    }
   }
  },
  {
   "cell_type": "code",
   "execution_count": 7,
   "outputs": [
    {
     "name": "stdout",
     "output_type": "stream",
     "text": [
      "Index(['UID', 'iso2', 'iso3', 'code3', 'FIPS', 'Admin2', 'Province_State',\n",
      "       'Country_Region', 'Lat', 'Long_',\n",
      "       ...\n",
      "       '4/17/20', '4/18/20', '4/19/20', '4/20/20', '4/21/20', '4/22/20',\n",
      "       '4/23/20', '4/24/20', '4/25/20', '4/26/20'],\n",
      "      dtype='object', length=107)\n"
     ]
    },
    {
     "ename": "ValueError",
     "evalue": "The truth value of a DataFrame is ambiguous. Use a.empty, a.bool(), a.item(), a.any() or a.all().",
     "output_type": "error",
     "traceback": [
      "\u001B[0;31m---------------------------------------------------------------------------\u001B[0m",
      "\u001B[0;31mValueError\u001B[0m                                Traceback (most recent call last)",
      "\u001B[0;32m<ipython-input-7-a4cc366533d5>\u001B[0m in \u001B[0;36m<module>\u001B[0;34m\u001B[0m\n\u001B[1;32m      5\u001B[0m \u001B[0mprint\u001B[0m\u001B[0;34m(\u001B[0m\u001B[0mts_data\u001B[0m\u001B[0;34m.\u001B[0m\u001B[0mcolumns\u001B[0m\u001B[0;34m)\u001B[0m\u001B[0;34m\u001B[0m\u001B[0;34m\u001B[0m\u001B[0m\n\u001B[1;32m      6\u001B[0m \u001B[0mts_data\u001B[0m\u001B[0;34m.\u001B[0m\u001B[0mhead\u001B[0m\u001B[0;34m(\u001B[0m\u001B[0;36m20\u001B[0m\u001B[0;34m)\u001B[0m\u001B[0;34m\u001B[0m\u001B[0;34m\u001B[0m\u001B[0m\n\u001B[0;32m----> 7\u001B[0;31m \u001B[0mts_data_series\u001B[0m \u001B[0;34m=\u001B[0m \u001B[0mpd\u001B[0m\u001B[0;34m.\u001B[0m\u001B[0mSeries\u001B[0m\u001B[0;34m(\u001B[0m\u001B[0mts_data\u001B[0m\u001B[0;34m)\u001B[0m\u001B[0;34m\u001B[0m\u001B[0;34m\u001B[0m\u001B[0m\n\u001B[0m\u001B[1;32m      8\u001B[0m \u001B[0mts_data_series\u001B[0m\u001B[0;34m.\u001B[0m\u001B[0mplot\u001B[0m\u001B[0;34m(\u001B[0m\u001B[0;34m)\u001B[0m\u001B[0;34m\u001B[0m\u001B[0;34m\u001B[0m\u001B[0m\n\u001B[1;32m      9\u001B[0m \u001B[0;34m\u001B[0m\u001B[0m\n",
      "\u001B[0;32m~/.pyenv/versions/miniconda3-4.7.12/envs/da_sci_py3/lib/python3.7/site-packages/pandas/core/series.py\u001B[0m in \u001B[0;36m__init__\u001B[0;34m(self, data, index, dtype, name, copy, fastpath)\u001B[0m\n\u001B[1;32m    200\u001B[0m             \u001B[0mname\u001B[0m \u001B[0;34m=\u001B[0m \u001B[0mibase\u001B[0m\u001B[0;34m.\u001B[0m\u001B[0mmaybe_extract_name\u001B[0m\u001B[0;34m(\u001B[0m\u001B[0mname\u001B[0m\u001B[0;34m,\u001B[0m \u001B[0mdata\u001B[0m\u001B[0;34m,\u001B[0m \u001B[0mtype\u001B[0m\u001B[0;34m(\u001B[0m\u001B[0mself\u001B[0m\u001B[0;34m)\u001B[0m\u001B[0;34m)\u001B[0m\u001B[0;34m\u001B[0m\u001B[0;34m\u001B[0m\u001B[0m\n\u001B[1;32m    201\u001B[0m \u001B[0;34m\u001B[0m\u001B[0m\n\u001B[0;32m--> 202\u001B[0;31m             \u001B[0;32mif\u001B[0m \u001B[0mis_empty_data\u001B[0m\u001B[0;34m(\u001B[0m\u001B[0mdata\u001B[0m\u001B[0;34m)\u001B[0m \u001B[0;32mand\u001B[0m \u001B[0mdtype\u001B[0m \u001B[0;32mis\u001B[0m \u001B[0;32mNone\u001B[0m\u001B[0;34m:\u001B[0m\u001B[0;34m\u001B[0m\u001B[0;34m\u001B[0m\u001B[0m\n\u001B[0m\u001B[1;32m    203\u001B[0m                 \u001B[0;31m# gh-17261\u001B[0m\u001B[0;34m\u001B[0m\u001B[0;34m\u001B[0m\u001B[0;34m\u001B[0m\u001B[0m\n\u001B[1;32m    204\u001B[0m                 warnings.warn(\n",
      "\u001B[0;32m~/.pyenv/versions/miniconda3-4.7.12/envs/da_sci_py3/lib/python3.7/site-packages/pandas/core/construction.py\u001B[0m in \u001B[0;36mis_empty_data\u001B[0;34m(data)\u001B[0m\n\u001B[1;32m    584\u001B[0m     \u001B[0mis_none\u001B[0m \u001B[0;34m=\u001B[0m \u001B[0mdata\u001B[0m \u001B[0;32mis\u001B[0m \u001B[0;32mNone\u001B[0m\u001B[0;34m\u001B[0m\u001B[0;34m\u001B[0m\u001B[0m\n\u001B[1;32m    585\u001B[0m     \u001B[0mis_list_like_without_dtype\u001B[0m \u001B[0;34m=\u001B[0m \u001B[0mis_list_like\u001B[0m\u001B[0;34m(\u001B[0m\u001B[0mdata\u001B[0m\u001B[0;34m)\u001B[0m \u001B[0;32mand\u001B[0m \u001B[0;32mnot\u001B[0m \u001B[0mhasattr\u001B[0m\u001B[0;34m(\u001B[0m\u001B[0mdata\u001B[0m\u001B[0;34m,\u001B[0m \u001B[0;34m\"dtype\"\u001B[0m\u001B[0;34m)\u001B[0m\u001B[0;34m\u001B[0m\u001B[0;34m\u001B[0m\u001B[0m\n\u001B[0;32m--> 586\u001B[0;31m     \u001B[0mis_simple_empty\u001B[0m \u001B[0;34m=\u001B[0m \u001B[0mis_list_like_without_dtype\u001B[0m \u001B[0;32mand\u001B[0m \u001B[0;32mnot\u001B[0m \u001B[0mdata\u001B[0m\u001B[0;34m\u001B[0m\u001B[0;34m\u001B[0m\u001B[0m\n\u001B[0m\u001B[1;32m    587\u001B[0m     \u001B[0;32mreturn\u001B[0m \u001B[0mis_none\u001B[0m \u001B[0;32mor\u001B[0m \u001B[0mis_simple_empty\u001B[0m\u001B[0;34m\u001B[0m\u001B[0;34m\u001B[0m\u001B[0m\n\u001B[1;32m    588\u001B[0m \u001B[0;34m\u001B[0m\u001B[0m\n",
      "\u001B[0;32m~/.pyenv/versions/miniconda3-4.7.12/envs/da_sci_py3/lib/python3.7/site-packages/pandas/core/generic.py\u001B[0m in \u001B[0;36m__nonzero__\u001B[0;34m(self)\u001B[0m\n\u001B[1;32m   1477\u001B[0m     \u001B[0;32mdef\u001B[0m \u001B[0m__nonzero__\u001B[0m\u001B[0;34m(\u001B[0m\u001B[0mself\u001B[0m\u001B[0;34m)\u001B[0m\u001B[0;34m:\u001B[0m\u001B[0;34m\u001B[0m\u001B[0;34m\u001B[0m\u001B[0m\n\u001B[1;32m   1478\u001B[0m         raise ValueError(\n\u001B[0;32m-> 1479\u001B[0;31m             \u001B[0;34mf\"The truth value of a {type(self).__name__} is ambiguous. \"\u001B[0m\u001B[0;34m\u001B[0m\u001B[0;34m\u001B[0m\u001B[0m\n\u001B[0m\u001B[1;32m   1480\u001B[0m             \u001B[0;34m\"Use a.empty, a.bool(), a.item(), a.any() or a.all().\"\u001B[0m\u001B[0;34m\u001B[0m\u001B[0;34m\u001B[0m\u001B[0m\n\u001B[1;32m   1481\u001B[0m         )\n",
      "\u001B[0;31mValueError\u001B[0m: The truth value of a DataFrame is ambiguous. Use a.empty, a.bool(), a.item(), a.any() or a.all()."
     ]
    }
   ],
   "source": [
    "%matplotlib inline\n",
    "ts_data = pd.read_csv('csse_covid_19_data/csse_covid_19_time_series/time_series_covid19_confirmed_US.csv')\n",
    "# ts_data = ts_data.sort_index()\n",
    "ts_data = ts_data.loc[2321:2366]\n",
    "print(ts_data.columns)\n",
    "ts_data.head(20)\n",
    "ts_data_series = pd.Series(ts_data)\n",
    "ts_data_series.plot()"
   ],
   "metadata": {
    "collapsed": false,
    "pycharm": {
     "name": "#%%\n"
    }
   }
  },
  {
   "cell_type": "code",
   "execution_count": null,
   "outputs": [],
   "source": [
    "\n"
   ],
   "metadata": {
    "collapsed": false,
    "pycharm": {
     "name": "#%%\n"
    }
   }
  }
 ],
 "metadata": {
  "kernelspec": {
   "display_name": "Python 3",
   "language": "python",
   "name": "python3"
  },
  "language_info": {
   "codemirror_mode": {
    "name": "ipython",
    "version": 2
   },
   "file_extension": ".py",
   "mimetype": "text/x-python",
   "name": "python",
   "nbconvert_exporter": "python",
   "pygments_lexer": "ipython2",
   "version": "2.7.6"
  }
 },
 "nbformat": 4,
 "nbformat_minor": 0
}